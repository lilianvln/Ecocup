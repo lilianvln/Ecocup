{
 "cells": [
  {
   "cell_type": "markdown",
   "source": [
    "### Import"
   ],
   "metadata": {
    "collapsed": false
   }
  },
  {
   "cell_type": "code",
   "execution_count": 204,
   "metadata": {
    "collapsed": true
   },
   "outputs": [],
   "source": [
    "import os\n",
    "import csv\n",
    "from PIL import Image"
   ]
  },
  {
   "cell_type": "markdown",
   "source": [
    "### Load data"
   ],
   "metadata": {
    "collapsed": false
   }
  },
  {
   "cell_type": "code",
   "execution_count": 205,
   "outputs": [],
   "source": [
    "image_dir_pos = 'train/images/pos'\n",
    "image_dir_neg = 'train/images/neg'\n",
    "csv_dir = 'train/labels_csv'\n",
    "image_list_pos = os.listdir(image_dir_pos)\n",
    "image_list_neg = os.listdir(image_dir_neg)\n",
    "image_list = image_list_pos + image_list_neg\n",
    "csv_list = os.listdir(csv_dir)"
   ],
   "metadata": {
    "collapsed": false
   }
  },
  {
   "cell_type": "markdown",
   "source": [
    "### Dictionary to store contour coordinates for each image"
   ],
   "metadata": {
    "collapsed": false
   }
  },
  {
   "cell_type": "code",
   "execution_count": 206,
   "outputs": [],
   "source": [
    "coordinates = {}\n",
    "for csv_file in csv_list:\n",
    "    if csv_file != '.DS_Store':\n",
    "        image_name = csv_file.split('.')[0]\n",
    "        with open(f\"train/labels_csv/{csv_file}\") as csvfile:\n",
    "            reader = csv.reader(csvfile)\n",
    "            row_image = []\n",
    "            for row in reader:\n",
    "                row_image.append(row)\n",
    "        coordinates[image_name]=row_image"
   ],
   "metadata": {
    "collapsed": false
   }
  },
  {
   "cell_type": "code",
   "execution_count": 203,
   "outputs": [],
   "source": [
    "for csv_file in csv_list:\n",
    "    if csv_file != '.DS_Store':\n",
    "        image_name = csv_file.split('.')[0]\n",
    "        im = Image.open(f\"train/images/pos/{image_name}.jpg\")\n",
    "        for i_ in range(len(coordinates[image_name])):\n",
    "            i, j, h, l, d = coordinates[image_name][i_]\n",
    "            i = int(i)\n",
    "            j = int(j)\n",
    "            h = int(h)\n",
    "            l = int(l)\n",
    "            left = j - 24\n",
    "            top = i - 24\n",
    "            right = j + l + 24\n",
    "            bottom = i + h + 24\n",
    "            im1 = im.crop((left, top, right, bottom))\n",
    "            im1.save(f'image_crop/{image_name}_{i_}.png', 'png')"
   ],
   "metadata": {
    "collapsed": false
   }
  },
  {
   "cell_type": "code",
   "execution_count": null,
   "outputs": [],
   "source": [],
   "metadata": {
    "collapsed": false
   }
  }
 ],
 "metadata": {
  "kernelspec": {
   "display_name": "Python 3",
   "language": "python",
   "name": "python3"
  },
  "language_info": {
   "codemirror_mode": {
    "name": "ipython",
    "version": 2
   },
   "file_extension": ".py",
   "mimetype": "text/x-python",
   "name": "python",
   "nbconvert_exporter": "python",
   "pygments_lexer": "ipython2",
   "version": "2.7.6"
  }
 },
 "nbformat": 4,
 "nbformat_minor": 0
}
