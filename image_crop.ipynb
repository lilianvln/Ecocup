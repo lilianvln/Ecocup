{
 "cells": [
  {
   "cell_type": "code",
   "execution_count": 1,
   "metadata": {
    "collapsed": true
   },
   "outputs": [],
   "source": [
    "import os\n",
    "import csv\n",
    "\n",
    "import numpy as np\n",
    "from PIL import Image\n",
    "import skimage\n",
    "import matplotlib.pyplot as plt\n",
    "from skimage.feature import hog\n",
    "from skimage import data, exposure\n",
    "import random as rd"
   ]
  },
  {
   "cell_type": "markdown",
   "source": [
    "### Load data"
   ],
   "metadata": {
    "collapsed": false
   }
  },
  {
   "cell_type": "code",
   "execution_count": 2,
   "outputs": [],
   "source": [
    "image_dir_pos = 'train/images/pos'\n",
    "image_dir_neg = 'train/images/neg'\n",
    "csv_dir = 'train/labels_csv'\n",
    "image_list_pos = os.listdir(image_dir_pos)\n",
    "image_list_neg = os.listdir(image_dir_neg)\n",
    "image_list = image_list_pos + image_list_neg\n",
    "csv_list = os.listdir(csv_dir)"
   ],
   "metadata": {
    "collapsed": false
   }
  },
  {
   "cell_type": "markdown",
   "source": [
    "### Dictionary to store contour coordinates for each image"
   ],
   "metadata": {
    "collapsed": false
   }
  },
  {
   "cell_type": "code",
   "execution_count": 5,
   "outputs": [],
   "source": [
    "coordinates = {}\n",
    "for csv_file in csv_list:\n",
    "    if csv_file != '.DS_Store':\n",
    "        image_name = csv_file.split('.')[0]\n",
    "        with open(f\"train/labels_csv/{csv_file}\") as csvfile:\n",
    "            reader = csv.reader(csvfile)\n",
    "            row_image = []\n",
    "            for row in reader:\n",
    "                row_image.append(row)\n",
    "        coordinates[image_name]=row_image"
   ],
   "metadata": {
    "collapsed": false
   }
  },
  {
   "cell_type": "markdown",
   "source": [
    "# Positiive image"
   ],
   "metadata": {
    "collapsed": false
   }
  },
  {
   "cell_type": "markdown",
   "source": [
    "### Cropping of positive image"
   ],
   "metadata": {
    "collapsed": false
   }
  },
  {
   "cell_type": "code",
   "execution_count": 6,
   "outputs": [
    {
     "ename": "KeyboardInterrupt",
     "evalue": "",
     "output_type": "error",
     "traceback": [
      "\u001B[0;31m---------------------------------------------------------------------------\u001B[0m",
      "\u001B[0;31mAttributeError\u001B[0m                            Traceback (most recent call last)",
      "File \u001B[0;32m~/opt/anaconda3/envs/Python_Conda/lib/python3.8/site-packages/PIL/ImageFile.py:518\u001B[0m, in \u001B[0;36m_save\u001B[0;34m(im, fp, tile, bufsize)\u001B[0m\n\u001B[1;32m    517\u001B[0m \u001B[38;5;28;01mtry\u001B[39;00m:\n\u001B[0;32m--> 518\u001B[0m     fh \u001B[38;5;241m=\u001B[39m \u001B[43mfp\u001B[49m\u001B[38;5;241;43m.\u001B[39;49m\u001B[43mfileno\u001B[49m()\n\u001B[1;32m    519\u001B[0m     fp\u001B[38;5;241m.\u001B[39mflush()\n",
      "\u001B[0;31mAttributeError\u001B[0m: '_idat' object has no attribute 'fileno'",
      "\nDuring handling of the above exception, another exception occurred:\n",
      "\u001B[0;31mKeyboardInterrupt\u001B[0m                         Traceback (most recent call last)",
      "Cell \u001B[0;32mIn[6], line 16\u001B[0m\n\u001B[1;32m     14\u001B[0m bottom \u001B[38;5;241m=\u001B[39m i \u001B[38;5;241m+\u001B[39m h\n\u001B[1;32m     15\u001B[0m im1 \u001B[38;5;241m=\u001B[39m image\u001B[38;5;241m.\u001B[39mcrop((left, top, right, bottom))\n\u001B[0;32m---> 16\u001B[0m \u001B[43mim1\u001B[49m\u001B[38;5;241;43m.\u001B[39;49m\u001B[43msave\u001B[49m\u001B[43m(\u001B[49m\u001B[38;5;124;43mf\u001B[39;49m\u001B[38;5;124;43m'\u001B[39;49m\u001B[38;5;124;43m/Users/lilianvalin/Desktop/image_crop_pos/\u001B[39;49m\u001B[38;5;132;43;01m{\u001B[39;49;00m\u001B[43mimage_name\u001B[49m\u001B[38;5;132;43;01m}\u001B[39;49;00m\u001B[38;5;124;43m_\u001B[39;49m\u001B[38;5;132;43;01m{\u001B[39;49;00m\u001B[43mi_\u001B[49m\u001B[38;5;132;43;01m}\u001B[39;49;00m\u001B[38;5;124;43m.png\u001B[39;49m\u001B[38;5;124;43m'\u001B[39;49m\u001B[43m,\u001B[49m\u001B[43m \u001B[49m\u001B[38;5;124;43m'\u001B[39;49m\u001B[38;5;124;43mpng\u001B[39;49m\u001B[38;5;124;43m'\u001B[39;49m\u001B[43m)\u001B[49m\n",
      "File \u001B[0;32m~/opt/anaconda3/envs/Python_Conda/lib/python3.8/site-packages/PIL/Image.py:2431\u001B[0m, in \u001B[0;36mImage.save\u001B[0;34m(self, fp, format, **params)\u001B[0m\n\u001B[1;32m   2428\u001B[0m         fp \u001B[38;5;241m=\u001B[39m builtins\u001B[38;5;241m.\u001B[39mopen(filename, \u001B[38;5;124m\"\u001B[39m\u001B[38;5;124mw+b\u001B[39m\u001B[38;5;124m\"\u001B[39m)\n\u001B[1;32m   2430\u001B[0m \u001B[38;5;28;01mtry\u001B[39;00m:\n\u001B[0;32m-> 2431\u001B[0m     \u001B[43msave_handler\u001B[49m\u001B[43m(\u001B[49m\u001B[38;5;28;43mself\u001B[39;49m\u001B[43m,\u001B[49m\u001B[43m \u001B[49m\u001B[43mfp\u001B[49m\u001B[43m,\u001B[49m\u001B[43m \u001B[49m\u001B[43mfilename\u001B[49m\u001B[43m)\u001B[49m\n\u001B[1;32m   2432\u001B[0m \u001B[38;5;28;01mexcept\u001B[39;00m \u001B[38;5;167;01mException\u001B[39;00m:\n\u001B[1;32m   2433\u001B[0m     \u001B[38;5;28;01mif\u001B[39;00m open_fp:\n",
      "File \u001B[0;32m~/opt/anaconda3/envs/Python_Conda/lib/python3.8/site-packages/PIL/PngImagePlugin.py:1420\u001B[0m, in \u001B[0;36m_save\u001B[0;34m(im, fp, filename, chunk, save_all)\u001B[0m\n\u001B[1;32m   1418\u001B[0m     _write_multiple_frames(im, fp, chunk, rawmode, default_image, append_images)\n\u001B[1;32m   1419\u001B[0m \u001B[38;5;28;01melse\u001B[39;00m:\n\u001B[0;32m-> 1420\u001B[0m     \u001B[43mImageFile\u001B[49m\u001B[38;5;241;43m.\u001B[39;49m\u001B[43m_save\u001B[49m\u001B[43m(\u001B[49m\u001B[43mim\u001B[49m\u001B[43m,\u001B[49m\u001B[43m \u001B[49m\u001B[43m_idat\u001B[49m\u001B[43m(\u001B[49m\u001B[43mfp\u001B[49m\u001B[43m,\u001B[49m\u001B[43m \u001B[49m\u001B[43mchunk\u001B[49m\u001B[43m)\u001B[49m\u001B[43m,\u001B[49m\u001B[43m \u001B[49m\u001B[43m[\u001B[49m\u001B[43m(\u001B[49m\u001B[38;5;124;43m\"\u001B[39;49m\u001B[38;5;124;43mzip\u001B[39;49m\u001B[38;5;124;43m\"\u001B[39;49m\u001B[43m,\u001B[49m\u001B[43m \u001B[49m\u001B[43m(\u001B[49m\u001B[38;5;241;43m0\u001B[39;49m\u001B[43m,\u001B[49m\u001B[43m \u001B[49m\u001B[38;5;241;43m0\u001B[39;49m\u001B[43m)\u001B[49m\u001B[43m \u001B[49m\u001B[38;5;241;43m+\u001B[39;49m\u001B[43m \u001B[49m\u001B[43mim\u001B[49m\u001B[38;5;241;43m.\u001B[39;49m\u001B[43msize\u001B[49m\u001B[43m,\u001B[49m\u001B[43m \u001B[49m\u001B[38;5;241;43m0\u001B[39;49m\u001B[43m,\u001B[49m\u001B[43m \u001B[49m\u001B[43mrawmode\u001B[49m\u001B[43m)\u001B[49m\u001B[43m]\u001B[49m\u001B[43m)\u001B[49m\n\u001B[1;32m   1422\u001B[0m \u001B[38;5;28;01mif\u001B[39;00m info:\n\u001B[1;32m   1423\u001B[0m     \u001B[38;5;28;01mfor\u001B[39;00m info_chunk \u001B[38;5;129;01min\u001B[39;00m info\u001B[38;5;241m.\u001B[39mchunks:\n",
      "File \u001B[0;32m~/opt/anaconda3/envs/Python_Conda/lib/python3.8/site-packages/PIL/ImageFile.py:522\u001B[0m, in \u001B[0;36m_save\u001B[0;34m(im, fp, tile, bufsize)\u001B[0m\n\u001B[1;32m    520\u001B[0m     _encode_tile(im, fp, tile, bufsize, fh)\n\u001B[1;32m    521\u001B[0m \u001B[38;5;28;01mexcept\u001B[39;00m (\u001B[38;5;167;01mAttributeError\u001B[39;00m, io\u001B[38;5;241m.\u001B[39mUnsupportedOperation) \u001B[38;5;28;01mas\u001B[39;00m exc:\n\u001B[0;32m--> 522\u001B[0m     \u001B[43m_encode_tile\u001B[49m\u001B[43m(\u001B[49m\u001B[43mim\u001B[49m\u001B[43m,\u001B[49m\u001B[43m \u001B[49m\u001B[43mfp\u001B[49m\u001B[43m,\u001B[49m\u001B[43m \u001B[49m\u001B[43mtile\u001B[49m\u001B[43m,\u001B[49m\u001B[43m \u001B[49m\u001B[43mbufsize\u001B[49m\u001B[43m,\u001B[49m\u001B[43m \u001B[49m\u001B[38;5;28;43;01mNone\u001B[39;49;00m\u001B[43m,\u001B[49m\u001B[43m \u001B[49m\u001B[43mexc\u001B[49m\u001B[43m)\u001B[49m\n\u001B[1;32m    523\u001B[0m \u001B[38;5;28;01mif\u001B[39;00m \u001B[38;5;28mhasattr\u001B[39m(fp, \u001B[38;5;124m\"\u001B[39m\u001B[38;5;124mflush\u001B[39m\u001B[38;5;124m\"\u001B[39m):\n\u001B[1;32m    524\u001B[0m     fp\u001B[38;5;241m.\u001B[39mflush()\n",
      "File \u001B[0;32m~/opt/anaconda3/envs/Python_Conda/lib/python3.8/site-packages/PIL/ImageFile.py:541\u001B[0m, in \u001B[0;36m_encode_tile\u001B[0;34m(im, fp, tile, bufsize, fh, exc)\u001B[0m\n\u001B[1;32m    538\u001B[0m \u001B[38;5;28;01mif\u001B[39;00m exc:\n\u001B[1;32m    539\u001B[0m     \u001B[38;5;66;03m# compress to Python file-compatible object\u001B[39;00m\n\u001B[1;32m    540\u001B[0m     \u001B[38;5;28;01mwhile\u001B[39;00m \u001B[38;5;28;01mTrue\u001B[39;00m:\n\u001B[0;32m--> 541\u001B[0m         l, s, d \u001B[38;5;241m=\u001B[39m \u001B[43mencoder\u001B[49m\u001B[38;5;241;43m.\u001B[39;49m\u001B[43mencode\u001B[49m\u001B[43m(\u001B[49m\u001B[43mbufsize\u001B[49m\u001B[43m)\u001B[49m\n\u001B[1;32m    542\u001B[0m         fp\u001B[38;5;241m.\u001B[39mwrite(d)\n\u001B[1;32m    543\u001B[0m         \u001B[38;5;28;01mif\u001B[39;00m s:\n",
      "\u001B[0;31mKeyboardInterrupt\u001B[0m: "
     ]
    }
   ],
   "source": [
    "for csv_file in csv_list:\n",
    "    if csv_file != '.DS_Store':\n",
    "        image_name = csv_file.split('.')[0]\n",
    "        image = Image.open(f\"train/images/pos/{image_name}.jpg\")\n",
    "        for i_ in range(len(coordinates[image_name])):\n",
    "            i, j, h, l, d = coordinates[image_name][i_]\n",
    "            i = int(i)\n",
    "            j = int(j)\n",
    "            h = int(h)\n",
    "            l = int(l)\n",
    "            left = j\n",
    "            top = i\n",
    "            right = j + l\n",
    "            bottom = i + h\n",
    "            im1 = image.crop((left, top, right, bottom))\n",
    "            im1.save(f'/Users/lilianvalin/Desktop/image_crop_pos/{image_name}_{i_}.png', 'png')"
   ],
   "metadata": {
    "collapsed": false
   }
  },
  {
   "cell_type": "markdown",
   "source": [
    "### Resize of positive image"
   ],
   "metadata": {
    "collapsed": false
   }
  },
  {
   "cell_type": "code",
   "execution_count": 8,
   "outputs": [],
   "source": [
    "image_dir_crop_pos = '/Users/lilianvalin/Desktop/image_crop_pos'\n",
    "image_list_crop_pos = os.listdir(image_dir_crop_pos)\n",
    "\n",
    "for image in image_list_crop_pos:\n",
    "    if image != '.DS_Store':\n",
    "        image_name = image.split('.')[0]\n",
    "        image = Image.open(f\"/Users/lilianvalin/Desktop/image_crop_pos/{image_name}.png\")\n",
    "        resize_image = image.resize((174, 301))\n",
    "        resize_image.save(f'/Users/lilianvalin/Desktop/image_resize_pos/{image_name}.jpg')"
   ],
   "metadata": {
    "collapsed": false
   }
  },
  {
   "cell_type": "markdown",
   "source": [
    "### HOG calculation for cropped positive images"
   ],
   "metadata": {
    "collapsed": false
   }
  },
  {
   "cell_type": "code",
   "execution_count": 3,
   "outputs": [],
   "source": [
    "image_dir_resize_pos = '/Users/lilianvalin/Desktop/image_resize_pos'\n",
    "image_list_resize_pos = os.listdir(image_dir_resize_pos)\n",
    "\n",
    "hog_resize_pos = np.zeros((len(image_list_resize_pos), 53865))\n",
    "\n",
    "for i_, image in enumerate(image_list_resize_pos) :\n",
    "    if image != '.DS_Store':\n",
    "        image_name = image.split('.')[0]\n",
    "        image = Image.open(f\"/Users/lilianvalin/Desktop/image_resize_pos/{image_name}.jpg\")\n",
    "        fd = hog(image, channel_axis=-1)\n",
    "        hog_resize_pos[i_] = fd"
   ],
   "metadata": {
    "collapsed": false
   }
  },
  {
   "cell_type": "code",
   "execution_count": 4,
   "outputs": [
    {
     "name": "stdout",
     "output_type": "stream",
     "text": [
      "(971, 53865)\n"
     ]
    }
   ],
   "source": [
    "print(hog_resize_pos.shape)"
   ],
   "metadata": {
    "collapsed": false
   }
  },
  {
   "cell_type": "markdown",
   "source": [
    "# Negative image"
   ],
   "metadata": {
    "collapsed": false
   }
  },
  {
   "cell_type": "markdown",
   "source": [
    "### Cropping of negative image"
   ],
   "metadata": {
    "collapsed": false
   }
  },
  {
   "cell_type": "code",
   "execution_count": 5,
   "outputs": [],
   "source": [
    "def create_train_neg (k):\n",
    "    for csv_file in image_list_neg:\n",
    "        if csv_file != '.DS_Store':\n",
    "            image_name = csv_file.split('.')[0]\n",
    "            image = Image.open(f\"train/images/neg/{image_name}.jpg\")\n",
    "            width, height = image.size\n",
    "            i = rd.randint(0, height)\n",
    "            j = rd.randint(0, width)\n",
    "            h = rd.randint(50, 300)\n",
    "            l = rd.randint(50, 300)\n",
    "            left = j\n",
    "            top = i\n",
    "            right = j + l\n",
    "            bottom = i + h\n",
    "            if left > 0 and top > 0 and right < width and bottom < height :\n",
    "                im1 = image.crop((left, top, right, bottom))\n",
    "                im1.save(f'image_crop_neg/{image_name}_{k}.jpg')\n",
    "\n",
    "for k in range(20):\n",
    "    create_train_neg(k)"
   ],
   "metadata": {
    "collapsed": false
   }
  },
  {
   "cell_type": "markdown",
   "source": [
    "### Resize of negative image"
   ],
   "metadata": {
    "collapsed": false
   }
  },
  {
   "cell_type": "code",
   "execution_count": 13,
   "outputs": [],
   "source": [
    "image_dir_crop_neg = '/Users/lilianvalin/Desktop/image_crop_neg'\n",
    "image_list_crop_neg = os.listdir(image_dir_crop_neg)\n",
    "\n",
    "for image in image_list_crop_neg:\n",
    "    if image != '.DS_Store':\n",
    "        image_name = image.split('.')[0]\n",
    "        image = Image.open(f\"/Users/lilianvalin/Desktop/image_crop_neg/{image_name}.png\")\n",
    "        resize_image = image.resize((174, 301))\n",
    "        resize_image.save(f'/Users/lilianvalin/Desktop/image_resize_neg/{image_name}.jpg')"
   ],
   "metadata": {
    "collapsed": false
   }
  },
  {
   "cell_type": "markdown",
   "source": [
    "### HOG calculation for cropped negative images"
   ],
   "metadata": {
    "collapsed": false
   }
  },
  {
   "cell_type": "code",
   "execution_count": 5,
   "outputs": [],
   "source": [
    "image_dir_resize_neg = '/Users/lilianvalin/Desktop/image_resize_neg'\n",
    "image_list_resize_neg = os.listdir(image_dir_resize_neg)\n",
    "\n",
    "hog_resize_neg = np.zeros((len(image_list_resize_neg), 53865))\n",
    "\n",
    "for i_, image in enumerate(image_list_resize_neg) :\n",
    "    if image != '.DS_Store':\n",
    "        image_name = image.split('.')[0]\n",
    "        image = Image.open(f\"/Users/lilianvalin/Desktop/image_resize_neg/{image_name}.jpg\")\n",
    "        fd = hog(image, channel_axis=-1)\n",
    "        hog_resize_neg[i_] = fd"
   ],
   "metadata": {
    "collapsed": false
   }
  },
  {
   "cell_type": "code",
   "execution_count": 6,
   "outputs": [
    {
     "name": "stdout",
     "output_type": "stream",
     "text": [
      "(1823, 53865)\n"
     ]
    }
   ],
   "source": [
    "print(hog_resize_neg.shape)"
   ],
   "metadata": {
    "collapsed": false
   }
  },
  {
   "cell_type": "markdown",
   "source": [
    "# List of HOG - X_train, y_train"
   ],
   "metadata": {
    "collapsed": false
   }
  },
  {
   "cell_type": "code",
   "execution_count": 7,
   "outputs": [],
   "source": [
    "# Normaliser les valeurs du HOG image positive\n",
    "hog_resize_pos = (hog_resize_pos - hog_resize_pos.mean(axis=0)) / hog_resize_pos.std(axis=0)\n",
    "\n",
    "# Écrire les HOGs dans un fichier CSV\n",
    "with open('/Users/lilianvalin/Desktop/X_train.csv', 'w', newline='') as csvfile:\n",
    "    writer = csv.writer(csvfile)\n",
    "    writer.writerows(hog_resize_pos)\n",
    "\n",
    "# Normaliser les valeurs du HOG image negative\n",
    "hog_resize_neg = (hog_resize_neg - hog_resize_neg.mean(axis=0)) / hog_resize_neg.std(axis=0)\n",
    "\n",
    "# Écrire les HOGs dans un fichier CSV\n",
    "with open('/Users/lilianvalin/Desktop/X_train.csv', 'w', newline='') as csvfile:\n",
    "    writer = csv.writer(csvfile)\n",
    "    writer.writerows(hog_resize_neg)"
   ],
   "metadata": {
    "collapsed": false
   }
  },
  {
   "cell_type": "code",
   "execution_count": null,
   "outputs": [],
   "source": [
    "with open('/Users/lilianvalin/Desktop/X_train.csv', newline='') as csvfile:\n",
    "    reader = csv.reader(csvfile)\n",
    "    X_train = np.array(list(reader)).astype(float)"
   ],
   "metadata": {
    "collapsed": false,
    "pycharm": {
     "is_executing": true
    }
   }
  },
  {
   "cell_type": "code",
   "execution_count": null,
   "outputs": [],
   "source": [
    "print(X_train.shape)"
   ],
   "metadata": {
    "collapsed": false,
    "pycharm": {
     "is_executing": true
    }
   }
  },
  {
   "cell_type": "markdown",
   "source": [],
   "metadata": {
    "collapsed": false
   }
  },
  {
   "cell_type": "markdown",
   "source": [],
   "metadata": {
    "collapsed": false
   }
  },
  {
   "cell_type": "markdown",
   "source": [],
   "metadata": {
    "collapsed": false
   }
  },
  {
   "cell_type": "code",
   "execution_count": 174,
   "outputs": [],
   "source": [
    "X_train = np.vstack((hog_resize_pos, hog_resize_neg))\n",
    "y_train = np.zeros((len(X_train), 1) , dtype=int)\n",
    "for y_ in range(len(hog_resize_pos)):\n",
    "    y_train[y_] = 1"
   ],
   "metadata": {
    "collapsed": false
   }
  },
  {
   "cell_type": "code",
   "execution_count": 175,
   "outputs": [],
   "source": [
    "from sklearn.ensemble import RandomForestClassifier\n",
    "\n",
    "# Initialisation d'un objet de la classe RandomForestClassifier\n",
    "clf = RandomForestClassifier(n_estimators=100, random_state=200)\n",
    "\n",
    "# Aplatir y_train\n",
    "y_train = np.ravel(y_train)\n",
    "\n",
    "# Entraînement du modèle avec les données d'entraînement\n",
    "clf.fit(X_train, y_train)\n",
    "\n",
    "# Utilisation du modèle entraîné pour faire des prédictions sur de nouvelles données\n",
    "y_pred = clf.predict(X_train)"
   ],
   "metadata": {
    "collapsed": false
   }
  },
  {
   "cell_type": "code",
   "execution_count": 176,
   "outputs": [
    {
     "name": "stdout",
     "output_type": "stream",
     "text": [
      "[1]\n"
     ]
    }
   ],
   "source": [
    "image = Image.open(\"/Users/lilianvalin/Desktop/image_resize_pos/abigotte_pos_001_0.jpg\")\n",
    "hog_one_image = np.zeros((1, 53865))\n",
    "hog_one_image[0] = hog(image, channel_axis=-1)\n",
    "print(clf.predict(hog_one_image))"
   ],
   "metadata": {
    "collapsed": false
   }
  },
  {
   "cell_type": "markdown",
   "source": [],
   "metadata": {
    "collapsed": false
   }
  },
  {
   "cell_type": "markdown",
   "source": [],
   "metadata": {
    "collapsed": false
   }
  },
  {
   "cell_type": "code",
   "execution_count": 167,
   "outputs": [],
   "source": [
    "def testing(image):\n",
    "    hog_one_image = np.zeros((1, 53865))\n",
    "    hog_one_image[0] = hog(image, channel_axis=-1)\n",
    "    res = clf.predict(hog_one_image)\n",
    "    return int(res)"
   ],
   "metadata": {
    "collapsed": false
   }
  },
  {
   "cell_type": "code",
   "execution_count": 177,
   "outputs": [
    {
     "name": "stdout",
     "output_type": "stream",
     "text": [
      "1\n"
     ]
    }
   ],
   "source": [
    "print(testing(Image.open(\"/Users/lilianvalin/Desktop/image_resize_pos/abigotte_pos_001_0.jpg\")))"
   ],
   "metadata": {
    "collapsed": false
   }
  },
  {
   "cell_type": "code",
   "execution_count": 130,
   "outputs": [],
   "source": [
    "def sliding_window(image = Image.open(\"test/000.jpg\"), window_size = (174, 301), stride = 100):\n",
    "    res = []\n",
    "    # Obtient les dimensions de l'image\n",
    "    width, height = image.size\n",
    "    # Parcourt l'image avec la taille de fenêtre et le pas de parcours donnés\n",
    "    for x in range(0, width - window_size[0] + 1, stride):\n",
    "        for y in range(0, height - window_size[1] + 1, stride):\n",
    "            # Extrait la région de l'image correspondant à la fenêtre\n",
    "            region = image.crop((x, y, x + window_size[0], y + window_size[1]))\n",
    "            # Fait quelque chose avec la région extraite, par exemple l'affiche\n",
    "            resultat = testing(region)\n",
    "            if resultat == 1 :\n",
    "                region.show()\n",
    "            res.append(resultat)\n",
    "    return res"
   ],
   "metadata": {
    "collapsed": false
   }
  },
  {
   "cell_type": "code",
   "execution_count": 131,
   "outputs": [],
   "source": [
    "def resizing_window(nb_resize, image_name):\n",
    "    image = Image.open(f\"test/{image_name}.jpg\")\n",
    "    width, height = image.size\n",
    "    for i_ in range(1, nb_resize):\n",
    "        new_image = image.resize((width*i_, height*i_))\n",
    "        print(sliding_window(new_image))"
   ],
   "metadata": {
    "collapsed": false
   }
  },
  {
   "cell_type": "code",
   "execution_count": 178,
   "outputs": [
    {
     "name": "stdout",
     "output_type": "stream",
     "text": [
      "[0, 0, 0, 0, 0, 0, 0, 0, 0, 0, 0, 0, 0, 0, 0, 0, 0, 0, 0, 0, 0, 0, 0, 0, 0, 0, 0, 0, 0, 0, 0, 0, 0, 0, 0, 0, 0, 0, 0, 0, 0, 0, 0, 0, 0, 0, 0, 0, 0, 0, 0, 0, 0, 0, 0, 1, 1, 0, 0, 0, 0, 0, 0]\n",
      "[0, 0, 0, 0, 0, 0, 0, 0, 0, 0, 0, 0, 0, 0, 0, 0, 1, 0, 0, 0, 0, 0, 0, 0, 0, 0, 0, 0, 0, 0, 0, 0, 0, 0, 0, 0, 0, 0, 0, 0, 0, 0, 0, 0, 0, 0, 0, 0, 0, 0, 0, 0, 0, 0, 0, 0, 0, 0, 0, 0, 0, 0, 0, 0, 0, 0, 0, 0, 0, 0, 0, 0, 0, 0, 0, 0, 0, 0, 0, 0, 0, 0, 0, 0, 0, 0, 0, 0, 0, 0, 0, 0, 0, 0, 0, 0, 0, 0, 0, 0, 0, 0, 0, 0, 0, 0, 0, 0, 0, 0, 0, 0, 0, 0, 0, 0, 0, 0, 0, 0, 0, 0, 0, 0, 0, 0, 0, 0, 0, 0, 0, 0, 0, 0, 0, 0, 0, 0, 0, 0, 0, 0, 0, 0, 0, 0, 0, 0, 0, 0, 0, 0, 0, 0, 0, 0, 0, 0, 0, 0, 0, 0, 0, 0, 0, 0, 0, 0, 0, 0, 0, 0, 0, 0, 1, 0, 0, 0, 0, 0, 0, 0, 0, 0, 0, 0, 0, 0, 0, 0, 0, 0, 0, 0, 0, 0, 0, 0, 0, 0, 0, 0, 0, 0, 0, 0, 0, 0, 0, 0, 0, 0, 0, 0, 0, 0, 0, 0, 0, 0, 0, 0, 0, 0, 0, 0, 0, 0, 0, 0, 0, 0, 0, 0, 0, 0, 0, 0, 0, 0, 0, 0, 0, 0, 0, 0, 0, 0, 0, 0, 0, 0, 0, 0, 0, 0, 0, 0, 0, 0, 0, 0, 0, 0, 0, 0, 0, 0, 0, 0, 0, 0, 0, 0, 0, 0, 0, 0, 0, 0, 0, 0, 1, 0, 0, 0, 0, 0, 0, 0, 0, 0, 0, 0, 0, 0, 0, 0, 0, 0]\n"
     ]
    },
    {
     "name": "stderr",
     "output_type": "stream",
     "text": [
      "Traceback (most recent call last):\n",
      "  File \"<string>\", line 1, in <module>\n",
      "KeyboardInterrupt\n",
      "Traceback (most recent call last):\n",
      "  File \"<string>\", line 1, in <module>\n",
      "KeyboardInterrupt\n",
      "Traceback (most recent call last):\n",
      "  File \"<string>\", line 1, in <module>\n",
      "KeyboardInterrupt\n",
      "Traceback (most recent call last):\n",
      "  File \"<string>\", line 1, in <module>\n",
      "KeyboardInterrupt\n",
      "Traceback (most recent call last):\n",
      "  File \"<string>\", line 1, in <module>\n",
      "KeyboardInterrupt\n",
      "Traceback (most recent call last):\n",
      "  File \"<string>\", line 1, in <module>\n",
      "KeyboardInterrupt\n",
      "Traceback (most recent call last):\n",
      "  File \"<string>\", line 1, in <module>\n",
      "KeyboardInterrupt\n",
      "Traceback (most recent call last):\n",
      "  File \"<string>\", line 1, in <module>\n",
      "KeyboardInterrupt\n"
     ]
    },
    {
     "ename": "KeyboardInterrupt",
     "evalue": "",
     "output_type": "error",
     "traceback": [
      "\u001B[0;31m---------------------------------------------------------------------------\u001B[0m",
      "\u001B[0;31mKeyboardInterrupt\u001B[0m                         Traceback (most recent call last)",
      "Cell \u001B[0;32mIn[178], line 1\u001B[0m\n\u001B[0;32m----> 1\u001B[0m \u001B[43mresizing_window\u001B[49m\u001B[43m(\u001B[49m\u001B[38;5;241;43m4\u001B[39;49m\u001B[43m,\u001B[49m\u001B[43m \u001B[49m\u001B[38;5;124;43m'\u001B[39;49m\u001B[38;5;124;43m001\u001B[39;49m\u001B[38;5;124;43m'\u001B[39;49m\u001B[43m)\u001B[49m\n",
      "Cell \u001B[0;32mIn[131], line 6\u001B[0m, in \u001B[0;36mresizing_window\u001B[0;34m(nb_resize, image_name)\u001B[0m\n\u001B[1;32m      4\u001B[0m \u001B[38;5;28;01mfor\u001B[39;00m i_ \u001B[38;5;129;01min\u001B[39;00m \u001B[38;5;28mrange\u001B[39m(\u001B[38;5;241m1\u001B[39m, nb_resize):\n\u001B[1;32m      5\u001B[0m     new_image \u001B[38;5;241m=\u001B[39m image\u001B[38;5;241m.\u001B[39mresize((width\u001B[38;5;241m*\u001B[39mi_, height\u001B[38;5;241m*\u001B[39mi_))\n\u001B[0;32m----> 6\u001B[0m     \u001B[38;5;28mprint\u001B[39m(\u001B[43msliding_window\u001B[49m\u001B[43m(\u001B[49m\u001B[43mnew_image\u001B[49m\u001B[43m)\u001B[49m)\n",
      "Cell \u001B[0;32mIn[130], line 11\u001B[0m, in \u001B[0;36msliding_window\u001B[0;34m(image, window_size, stride)\u001B[0m\n\u001B[1;32m      9\u001B[0m region \u001B[38;5;241m=\u001B[39m image\u001B[38;5;241m.\u001B[39mcrop((x, y, x \u001B[38;5;241m+\u001B[39m window_size[\u001B[38;5;241m0\u001B[39m], y \u001B[38;5;241m+\u001B[39m window_size[\u001B[38;5;241m1\u001B[39m]))\n\u001B[1;32m     10\u001B[0m \u001B[38;5;66;03m# Fait quelque chose avec la région extraite, par exemple l'affiche\u001B[39;00m\n\u001B[0;32m---> 11\u001B[0m resultat \u001B[38;5;241m=\u001B[39m \u001B[43mtesting\u001B[49m\u001B[43m(\u001B[49m\u001B[43mregion\u001B[49m\u001B[43m)\u001B[49m\n\u001B[1;32m     12\u001B[0m \u001B[38;5;28;01mif\u001B[39;00m resultat \u001B[38;5;241m==\u001B[39m \u001B[38;5;241m1\u001B[39m :\n\u001B[1;32m     13\u001B[0m     region\u001B[38;5;241m.\u001B[39mshow()\n",
      "Cell \u001B[0;32mIn[167], line 3\u001B[0m, in \u001B[0;36mtesting\u001B[0;34m(image)\u001B[0m\n\u001B[1;32m      1\u001B[0m \u001B[38;5;28;01mdef\u001B[39;00m \u001B[38;5;21mtesting\u001B[39m(image):\n\u001B[1;32m      2\u001B[0m     hog_one_image \u001B[38;5;241m=\u001B[39m np\u001B[38;5;241m.\u001B[39mzeros((\u001B[38;5;241m1\u001B[39m, \u001B[38;5;241m53865\u001B[39m))\n\u001B[0;32m----> 3\u001B[0m     hog_one_image[\u001B[38;5;241m0\u001B[39m] \u001B[38;5;241m=\u001B[39m \u001B[43mhog\u001B[49m\u001B[43m(\u001B[49m\u001B[43mimage\u001B[49m\u001B[43m,\u001B[49m\u001B[43m \u001B[49m\u001B[43mchannel_axis\u001B[49m\u001B[38;5;241;43m=\u001B[39;49m\u001B[38;5;241;43m-\u001B[39;49m\u001B[38;5;241;43m1\u001B[39;49m\u001B[43m)\u001B[49m\n\u001B[1;32m      4\u001B[0m     res \u001B[38;5;241m=\u001B[39m clf\u001B[38;5;241m.\u001B[39mpredict(hog_one_image)\n\u001B[1;32m      5\u001B[0m     \u001B[38;5;28;01mreturn\u001B[39;00m \u001B[38;5;28mint\u001B[39m(res)\n",
      "File \u001B[0;32m~/opt/anaconda3/envs/Python_Conda/lib/python3.8/site-packages/skimage/_shared/utils.py:406\u001B[0m, in \u001B[0;36mchannel_as_last_axis.__call__.<locals>.fixed_func\u001B[0;34m(*args, **kwargs)\u001B[0m\n\u001B[1;32m    402\u001B[0m     \u001B[38;5;28;01mraise\u001B[39;00m \u001B[38;5;167;01mValueError\u001B[39;00m(\n\u001B[1;32m    403\u001B[0m         \u001B[38;5;124m\"\u001B[39m\u001B[38;5;124monly a single channel axis is currently suported\u001B[39m\u001B[38;5;124m\"\u001B[39m)\n\u001B[1;32m    405\u001B[0m \u001B[38;5;28;01mif\u001B[39;00m channel_axis \u001B[38;5;241m==\u001B[39m (\u001B[38;5;241m-\u001B[39m\u001B[38;5;241m1\u001B[39m,) \u001B[38;5;129;01mor\u001B[39;00m channel_axis \u001B[38;5;241m==\u001B[39m \u001B[38;5;241m-\u001B[39m\u001B[38;5;241m1\u001B[39m:\n\u001B[0;32m--> 406\u001B[0m     \u001B[38;5;28;01mreturn\u001B[39;00m \u001B[43mfunc\u001B[49m\u001B[43m(\u001B[49m\u001B[38;5;241;43m*\u001B[39;49m\u001B[43margs\u001B[49m\u001B[43m,\u001B[49m\u001B[43m \u001B[49m\u001B[38;5;241;43m*\u001B[39;49m\u001B[38;5;241;43m*\u001B[39;49m\u001B[43mkwargs\u001B[49m\u001B[43m)\u001B[49m\n\u001B[1;32m    408\u001B[0m \u001B[38;5;28;01mif\u001B[39;00m \u001B[38;5;28mself\u001B[39m\u001B[38;5;241m.\u001B[39marg_positions:\n\u001B[1;32m    409\u001B[0m     new_args \u001B[38;5;241m=\u001B[39m []\n",
      "File \u001B[0;32m~/opt/anaconda3/envs/Python_Conda/lib/python3.8/site-packages/skimage/_shared/utils.py:348\u001B[0m, in \u001B[0;36mdeprecate_multichannel_kwarg.__call__.<locals>.fixed_func\u001B[0;34m(*args, **kwargs)\u001B[0m\n\u001B[1;32m    345\u001B[0m     kwargs[\u001B[38;5;124m'\u001B[39m\u001B[38;5;124mchannel_axis\u001B[39m\u001B[38;5;124m'\u001B[39m] \u001B[38;5;241m=\u001B[39m convert[kwargs\u001B[38;5;241m.\u001B[39mpop(\u001B[38;5;124m'\u001B[39m\u001B[38;5;124mmultichannel\u001B[39m\u001B[38;5;124m'\u001B[39m)]\n\u001B[1;32m    347\u001B[0m \u001B[38;5;66;03m# Call the function with the fixed arguments\u001B[39;00m\n\u001B[0;32m--> 348\u001B[0m \u001B[38;5;28;01mreturn\u001B[39;00m \u001B[43mfunc\u001B[49m\u001B[43m(\u001B[49m\u001B[38;5;241;43m*\u001B[39;49m\u001B[43margs\u001B[49m\u001B[43m,\u001B[49m\u001B[43m \u001B[49m\u001B[38;5;241;43m*\u001B[39;49m\u001B[38;5;241;43m*\u001B[39;49m\u001B[43mkwargs\u001B[49m\u001B[43m)\u001B[49m\n",
      "File \u001B[0;32m~/opt/anaconda3/envs/Python_Conda/lib/python3.8/site-packages/skimage/feature/_hog.py:293\u001B[0m, in \u001B[0;36mhog\u001B[0;34m(image, orientations, pixels_per_cell, cells_per_block, block_norm, visualize, transform_sqrt, feature_vector, multichannel, channel_axis)\u001B[0m\n\u001B[1;32m    290\u001B[0m     \u001B[38;5;28;01mfor\u001B[39;00m c \u001B[38;5;129;01min\u001B[39;00m \u001B[38;5;28mrange\u001B[39m(n_blocks_col):\n\u001B[1;32m    291\u001B[0m         block \u001B[38;5;241m=\u001B[39m orientation_histogram[r:r \u001B[38;5;241m+\u001B[39m b_row, c:c \u001B[38;5;241m+\u001B[39m b_col, :]\n\u001B[1;32m    292\u001B[0m         normalized_blocks[r, c, :] \u001B[38;5;241m=\u001B[39m \\\n\u001B[0;32m--> 293\u001B[0m             \u001B[43m_hog_normalize_block\u001B[49m\u001B[43m(\u001B[49m\u001B[43mblock\u001B[49m\u001B[43m,\u001B[49m\u001B[43m \u001B[49m\u001B[43mmethod\u001B[49m\u001B[38;5;241;43m=\u001B[39;49m\u001B[43mblock_norm\u001B[49m\u001B[43m)\u001B[49m\n\u001B[1;32m    295\u001B[0m \u001B[38;5;250m\u001B[39m\u001B[38;5;124;03m\"\"\"\u001B[39;00m\n\u001B[1;32m    296\u001B[0m \u001B[38;5;124;03mThe final step collects the HOG descriptors from all blocks of a dense\u001B[39;00m\n\u001B[1;32m    297\u001B[0m \u001B[38;5;124;03moverlapping grid of blocks covering the detection window into a combined\u001B[39;00m\n\u001B[1;32m    298\u001B[0m \u001B[38;5;124;03mfeature vector for use in the window classifier.\u001B[39;00m\n\u001B[1;32m    299\u001B[0m \u001B[38;5;124;03m\"\"\"\u001B[39;00m\n\u001B[1;32m    301\u001B[0m \u001B[38;5;28;01mif\u001B[39;00m feature_vector:\n",
      "File \u001B[0;32m~/opt/anaconda3/envs/Python_Conda/lib/python3.8/site-packages/skimage/feature/_hog.py:15\u001B[0m, in \u001B[0;36m_hog_normalize_block\u001B[0;34m(block, method, eps)\u001B[0m\n\u001B[1;32m     13\u001B[0m     out \u001B[38;5;241m=\u001B[39m block \u001B[38;5;241m/\u001B[39m np\u001B[38;5;241m.\u001B[39msqrt(np\u001B[38;5;241m.\u001B[39msum(block \u001B[38;5;241m*\u001B[39m\u001B[38;5;241m*\u001B[39m \u001B[38;5;241m2\u001B[39m) \u001B[38;5;241m+\u001B[39m eps \u001B[38;5;241m*\u001B[39m\u001B[38;5;241m*\u001B[39m \u001B[38;5;241m2\u001B[39m)\n\u001B[1;32m     14\u001B[0m \u001B[38;5;28;01melif\u001B[39;00m method \u001B[38;5;241m==\u001B[39m \u001B[38;5;124m'\u001B[39m\u001B[38;5;124mL2-Hys\u001B[39m\u001B[38;5;124m'\u001B[39m:\n\u001B[0;32m---> 15\u001B[0m     out \u001B[38;5;241m=\u001B[39m \u001B[43mblock\u001B[49m\u001B[43m \u001B[49m\u001B[38;5;241;43m/\u001B[39;49m\u001B[43m \u001B[49m\u001B[43mnp\u001B[49m\u001B[38;5;241;43m.\u001B[39;49m\u001B[43msqrt\u001B[49m\u001B[43m(\u001B[49m\u001B[43mnp\u001B[49m\u001B[38;5;241;43m.\u001B[39;49m\u001B[43msum\u001B[49m\u001B[43m(\u001B[49m\u001B[43mblock\u001B[49m\u001B[43m \u001B[49m\u001B[38;5;241;43m*\u001B[39;49m\u001B[38;5;241;43m*\u001B[39;49m\u001B[43m \u001B[49m\u001B[38;5;241;43m2\u001B[39;49m\u001B[43m)\u001B[49m\u001B[43m \u001B[49m\u001B[38;5;241;43m+\u001B[39;49m\u001B[43m \u001B[49m\u001B[43meps\u001B[49m\u001B[43m \u001B[49m\u001B[38;5;241;43m*\u001B[39;49m\u001B[38;5;241;43m*\u001B[39;49m\u001B[43m \u001B[49m\u001B[38;5;241;43m2\u001B[39;49m\u001B[43m)\u001B[49m\n\u001B[1;32m     16\u001B[0m     out \u001B[38;5;241m=\u001B[39m np\u001B[38;5;241m.\u001B[39mminimum(out, \u001B[38;5;241m0.2\u001B[39m)\n\u001B[1;32m     17\u001B[0m     out \u001B[38;5;241m=\u001B[39m out \u001B[38;5;241m/\u001B[39m np\u001B[38;5;241m.\u001B[39msqrt(np\u001B[38;5;241m.\u001B[39msum(out \u001B[38;5;241m*\u001B[39m\u001B[38;5;241m*\u001B[39m \u001B[38;5;241m2\u001B[39m) \u001B[38;5;241m+\u001B[39m eps \u001B[38;5;241m*\u001B[39m\u001B[38;5;241m*\u001B[39m \u001B[38;5;241m2\u001B[39m)\n",
      "\u001B[0;31mKeyboardInterrupt\u001B[0m: "
     ]
    }
   ],
   "source": [
    "resizing_window(4, '001')"
   ],
   "metadata": {
    "collapsed": false
   }
  },
  {
   "cell_type": "code",
   "execution_count": null,
   "outputs": [],
   "source": [],
   "metadata": {
    "collapsed": false
   }
  }
 ],
 "metadata": {
  "kernelspec": {
   "display_name": "Python 3",
   "language": "python",
   "name": "python3"
  },
  "language_info": {
   "codemirror_mode": {
    "name": "ipython",
    "version": 2
   },
   "file_extension": ".py",
   "mimetype": "text/x-python",
   "name": "python",
   "nbconvert_exporter": "python",
   "pygments_lexer": "ipython2",
   "version": "2.7.6"
  }
 },
 "nbformat": 4,
 "nbformat_minor": 0
}
